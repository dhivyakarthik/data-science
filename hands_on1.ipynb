{
  "nbformat": 4,
  "nbformat_minor": 0,
  "metadata": {
    "colab": {
      "provenance": []
    },
    "kernelspec": {
      "name": "python3",
      "display_name": "Python 3"
    },
    "language_info": {
      "name": "python"
    }
  },
  "cells": [
    {
      "cell_type": "code",
      "execution_count": null,
      "metadata": {
        "id": "_O6Dd0Vhi0MX"
      },
      "outputs": [],
      "source": [
        "import random\n",
        "import matplotlib.pyplot as plt"
      ]
    },
    {
      "cell_type": "code",
      "source": [
        "print(random.random())\n",
        "\n",
        "print(random.randint(0, 1))\n",
        "print(random.uniform(1.0, 5.0))"
      ],
      "metadata": {
        "colab": {
          "base_uri": "https://localhost:8080/"
        },
        "id": "4KEbWkgqjlhI",
        "outputId": "d2057e3c-8fb0-40f0-a7b7-595a14ffe33b"
      },
      "execution_count": null,
      "outputs": [
        {
          "output_type": "stream",
          "name": "stdout",
          "text": [
            "0.7592695169453028\n",
            "1\n",
            "2.792577311354482\n"
          ]
        }
      ]
    },
    {
      "cell_type": "code",
      "source": [
        "die_rolls = [random.randint(1,6) for x in range(100)]\n",
        "print(die_rolls)"
      ],
      "metadata": {
        "colab": {
          "base_uri": "https://localhost:8080/"
        },
        "id": "1GMXD7zIj4GC",
        "outputId": "aaecc3e7-db08-4ef4-9d86-848ef25c46ea"
      },
      "execution_count": null,
      "outputs": [
        {
          "output_type": "stream",
          "name": "stdout",
          "text": [
            "[3, 3, 1, 4, 3, 5, 6, 1, 3, 3, 6, 1, 5, 3, 2, 6, 3, 5, 4, 3, 4, 4, 5, 5, 1, 6, 2, 3, 2, 6, 4, 2, 2, 3, 2, 4, 2, 6, 2, 1, 4, 2, 6, 4, 3, 2, 4, 3, 3, 3, 3, 2, 1, 4, 3, 6, 5, 4, 4, 3, 2, 4, 1, 1, 1, 6, 4, 6, 2, 1, 3, 6, 3, 3, 3, 4, 3, 4, 1, 5, 3, 5, 3, 2, 3, 2, 6, 1, 4, 4, 1, 3, 3, 6, 6, 5, 1, 5, 6, 4]\n"
          ]
        }
      ]
    },
    {
      "cell_type": "code",
      "source": [
        "def plot_discrete(outcome_list):\n",
        "  plt.figure(figsize=(6,4))\n",
        "  plt.hist(outcome_list, bins=range[1, 8], align=\"left\", rwidth=0.8, color=\"red\")\n",
        "  plt.title = \"PDF\"\n",
        "  plt.xlabel = \"outcome\"\n",
        "  plt.ylabel = \"frequency\"\n",
        "  plt.show\n"
      ],
      "metadata": {
        "id": "eFPWRZDOkEje"
      },
      "execution_count": null,
      "outputs": []
    },
    {
      "cell_type": "code",
      "source": [
        "plot_discrete(die_rolls)"
      ],
      "metadata": {
        "colab": {
          "base_uri": "https://localhost:8080/",
          "height": 297
        },
        "id": "YhYI1j48k66a",
        "outputId": "8a34e6b0-6642-4761-b654-d08ca47af251"
      },
      "execution_count": null,
      "outputs": [
        {
          "output_type": "error",
          "ename": "TypeError",
          "evalue": "type 'range' is not subscriptable",
          "traceback": [
            "\u001b[0;31m---------------------------------------------------------------------------\u001b[0m",
            "\u001b[0;31mTypeError\u001b[0m                                 Traceback (most recent call last)",
            "\u001b[0;32m/tmp/ipython-input-3831198933.py\u001b[0m in \u001b[0;36m<cell line: 0>\u001b[0;34m()\u001b[0m\n\u001b[0;32m----> 1\u001b[0;31m \u001b[0mplot_discrete\u001b[0m\u001b[0;34m(\u001b[0m\u001b[0mdie_rolls\u001b[0m\u001b[0;34m)\u001b[0m\u001b[0;34m\u001b[0m\u001b[0;34m\u001b[0m\u001b[0m\n\u001b[0m",
            "\u001b[0;32m/tmp/ipython-input-848968611.py\u001b[0m in \u001b[0;36mplot_discrete\u001b[0;34m(outcome_list)\u001b[0m\n\u001b[1;32m      1\u001b[0m \u001b[0;32mdef\u001b[0m \u001b[0mplot_discrete\u001b[0m\u001b[0;34m(\u001b[0m\u001b[0moutcome_list\u001b[0m\u001b[0;34m)\u001b[0m\u001b[0;34m:\u001b[0m\u001b[0;34m\u001b[0m\u001b[0;34m\u001b[0m\u001b[0m\n\u001b[1;32m      2\u001b[0m   \u001b[0mplt\u001b[0m\u001b[0;34m.\u001b[0m\u001b[0mfigure\u001b[0m\u001b[0;34m(\u001b[0m\u001b[0mfigsize\u001b[0m\u001b[0;34m=\u001b[0m\u001b[0;34m(\u001b[0m\u001b[0;36m6\u001b[0m\u001b[0;34m,\u001b[0m\u001b[0;36m4\u001b[0m\u001b[0;34m)\u001b[0m\u001b[0;34m)\u001b[0m\u001b[0;34m\u001b[0m\u001b[0;34m\u001b[0m\u001b[0m\n\u001b[0;32m----> 3\u001b[0;31m   \u001b[0mplt\u001b[0m\u001b[0;34m.\u001b[0m\u001b[0mhist\u001b[0m\u001b[0;34m(\u001b[0m\u001b[0moutcome_list\u001b[0m\u001b[0;34m,\u001b[0m \u001b[0mbins\u001b[0m\u001b[0;34m=\u001b[0m\u001b[0mrange\u001b[0m\u001b[0;34m[\u001b[0m\u001b[0;36m1\u001b[0m\u001b[0;34m,\u001b[0m \u001b[0;36m8\u001b[0m\u001b[0;34m]\u001b[0m\u001b[0;34m,\u001b[0m \u001b[0malign\u001b[0m\u001b[0;34m=\u001b[0m\u001b[0;34m\"left\"\u001b[0m\u001b[0;34m,\u001b[0m \u001b[0mrwidth\u001b[0m\u001b[0;34m=\u001b[0m\u001b[0;36m0.8\u001b[0m\u001b[0;34m,\u001b[0m \u001b[0mcolor\u001b[0m\u001b[0;34m=\u001b[0m\u001b[0;34m\"red\"\u001b[0m\u001b[0;34m)\u001b[0m\u001b[0;34m\u001b[0m\u001b[0;34m\u001b[0m\u001b[0m\n\u001b[0m\u001b[1;32m      4\u001b[0m   \u001b[0mplt\u001b[0m\u001b[0;34m.\u001b[0m\u001b[0mtitle\u001b[0m \u001b[0;34m=\u001b[0m \u001b[0;34m\"PDF\"\u001b[0m\u001b[0;34m\u001b[0m\u001b[0;34m\u001b[0m\u001b[0m\n\u001b[1;32m      5\u001b[0m   \u001b[0mplt\u001b[0m\u001b[0;34m.\u001b[0m\u001b[0mxlabel\u001b[0m \u001b[0;34m=\u001b[0m \u001b[0;34m\"outcome\"\u001b[0m\u001b[0;34m\u001b[0m\u001b[0;34m\u001b[0m\u001b[0m\n",
            "\u001b[0;31mTypeError\u001b[0m: type 'range' is not subscriptable"
          ]
        },
        {
          "output_type": "display_data",
          "data": {
            "text/plain": [
              "<Figure size 600x400 with 0 Axes>"
            ]
          },
          "metadata": {}
        }
      ]
    },
    {
      "cell_type": "code",
      "source": [
        "uniform = [random.uniform(0,1)for x in range(100)]\n",
        "print(uniform)"
      ],
      "metadata": {
        "colab": {
          "base_uri": "https://localhost:8080/"
        },
        "id": "6I5LsQNdmABu",
        "outputId": "9bda60a3-5d4e-45ca-f813-6f6d505701b9"
      },
      "execution_count": null,
      "outputs": [
        {
          "output_type": "stream",
          "name": "stdout",
          "text": [
            "[0.6995071392311631, 0.86824055840265, 0.6060721484709728, 0.1502945094652941, 0.407217269770481, 0.17971954342669227, 0.1738703428369398, 0.7619646210036259, 0.9289602664979969, 0.7252626416075778, 0.5738023259192624, 0.5001802432162548, 0.8278078870275304, 0.9304770187620617, 0.3863346913195357, 0.4193818528697376, 0.8469565009843925, 0.14005206726325403, 0.17690550789618065, 0.2099282639616853, 0.8214289097381284, 0.3713783811800816, 0.5059850630523416, 0.3055895262126188, 0.6034372718488117, 0.9715115214696026, 0.8689303357615772, 0.06068927996497653, 0.9786089283027346, 0.6595255647429984, 0.6372153831306887, 0.531221648256376, 0.051978202676288277, 0.08234267848002741, 0.20194562055666399, 0.7164992562123168, 0.9155131640727653, 0.0075283351034978185, 0.09848447673979654, 0.2880917711138963, 0.06075159490122184, 0.10139745506251763, 0.15157296182017554, 0.47129740846814383, 0.6628936068001594, 0.30270364023622787, 0.5444606950207291, 0.6852468413043823, 0.4161430348845513, 0.7150085097146913, 0.2918773799781932, 0.7654079686837256, 0.78603132944143, 0.7629453194611092, 0.029786301714802232, 0.02815004762343254, 0.5435516079966994, 0.1922656004490435, 0.9709404975304379, 0.09616290744635014, 0.08377084024784764, 0.7226001499666648, 0.42137602854743217, 0.45664068105588806, 0.35433003484584347, 0.46831188274776936, 0.22935644799290333, 0.540169527677096, 0.6271397752338986, 0.9984602286590762, 0.8974792443601688, 0.7283078031164921, 0.12261037429180777, 0.9457092019822974, 0.9267948591012434, 0.21558968986428395, 0.09981996851117747, 0.964646444798358, 0.618556191438589, 0.19789639333407838, 0.41199521588782995, 0.10313325830471176, 0.2006907271273103, 0.7485991770271262, 0.9587222215716228, 0.0704356603633417, 0.6554213440297972, 0.6937593299804687, 0.38688094008161555, 0.35761740287964916, 0.018863050838421436, 0.07702253904799938, 0.4198790471247398, 0.4338591921178172, 0.562725155680399, 0.8554609638888373, 0.7237440568059912, 0.7433879830763348, 0.4800332836531995, 0.7719764590487659]\n"
          ]
        }
      ]
    },
    {
      "cell_type": "code",
      "source": [
        "def plot_continuous(outcome_list):\n",
        "  \"\""
      ],
      "metadata": {
        "id": "_6E-hpF4mMiO"
      },
      "execution_count": null,
      "outputs": []
    },
    {
      "cell_type": "code",
      "source": [
        "def calc_height(a,b):\n",
        "  width = b-a\n"
      ],
      "metadata": {
        "id": "37oy9W9bnS9N"
      },
      "execution_count": null,
      "outputs": []
    },
    {
      "cell_type": "code",
      "source": [
        "from scipy.stats import bernoulli"
      ],
      "metadata": {
        "id": "dlDv2K2cnuAx"
      },
      "execution_count": null,
      "outputs": []
    },
    {
      "cell_type": "code",
      "source": [
        "p = 0.3\n",
        "bernoulli_dist = bernoulli(p)"
      ],
      "metadata": {
        "id": "7YVEk2VnnyyN"
      },
      "execution_count": null,
      "outputs": []
    },
    {
      "cell_type": "code",
      "source": [
        "x = [0, 1]\n",
        "pmf_vals = bernoulli_dist.pmf(x)\n",
        "print(pmf_vals)"
      ],
      "metadata": {
        "colab": {
          "base_uri": "https://localhost:8080/"
        },
        "id": "fM0yPbsun5Y7",
        "outputId": "7e711867-f668-4e37-c66b-fc258879468c"
      },
      "execution_count": null,
      "outputs": [
        {
          "output_type": "stream",
          "name": "stdout",
          "text": [
            "[0.7 0.3]\n"
          ]
        }
      ]
    },
    {
      "cell_type": "code",
      "source": [],
      "metadata": {
        "id": "DPGVW4vfp2e4"
      },
      "execution_count": null,
      "outputs": []
    },
    {
      "cell_type": "code",
      "source": [
        "from scipy.stats import binom"
      ],
      "metadata": {
        "id": "QvxOXUCJoFhg"
      },
      "execution_count": null,
      "outputs": []
    },
    {
      "cell_type": "code",
      "source": [
        "n = 10\n",
        "p = 0.1\n",
        "binom_dist = binom(n, p)\n",
        "x = list(range(n+1))\n",
        "\n",
        "pmf_vals = binom_dist.pmf(x)\n",
        "\n",
        "print(pmf_vals)"
      ],
      "metadata": {
        "colab": {
          "base_uri": "https://localhost:8080/"
        },
        "id": "xRKA5KtqpfQG",
        "outputId": "acd52d1c-8345-44f6-e951-4439306098ac"
      },
      "execution_count": null,
      "outputs": [
        {
          "output_type": "stream",
          "name": "stdout",
          "text": [
            "[3.48678440e-01 3.87420489e-01 1.93710245e-01 5.73956280e-02\n",
            " 1.11602610e-02 1.48803480e-03 1.37781000e-04 8.74800000e-06\n",
            " 3.64500000e-07 9.00000000e-09 1.00000000e-10]\n"
          ]
        }
      ]
    },
    {
      "cell_type": "code",
      "source": [
        "values = [10, 30, 40, 20, 50]\n",
        "probability = [0.1, 0.1, 0.3, 0.3, 0.1]\n",
        "\n",
        "if not (sum(probability) == 1):\n",
        "  print(\"Invalid input\")\n",
        "\n",
        "expected_value = sum(value * prob for value,prob in zip(values, probability))\n",
        "\n",
        "print(round(expected_value, 2))"
      ],
      "metadata": {
        "colab": {
          "base_uri": "https://localhost:8080/"
        },
        "id": "GItwIjACqbMs",
        "outputId": "75b39785-13f6-4860-b446-0f4cada5cd01"
      },
      "execution_count": null,
      "outputs": [
        {
          "output_type": "stream",
          "name": "stdout",
          "text": [
            "Invalid input\n",
            "27.0\n"
          ]
        }
      ]
    },
    {
      "cell_type": "code",
      "source": [
        "# Sample dataset\n",
        "import math\n",
        "from scipy.stats import norm\n",
        "sample_values = [35, 48, 50, 57, 62]\n",
        "\n",
        "mu = 50\n",
        "sigma = 10.0\n",
        "#z = 0.0\n",
        "z_score = [ ( x - mu ) / sigma for x in sample_values]\n",
        "\n",
        "#for z in z_score:\n",
        "#  print(round(z, 2))\n",
        "\n",
        "norm_cdf_values = [norm.cdf(z) for z in z_score]\n",
        "\n",
        "for z, n in zip(z_score, norm_cdf_values):\n",
        "  print(f\"Zscore is {z:0.2f} and Norm is {n:0.4f}\")"
      ],
      "metadata": {
        "colab": {
          "base_uri": "https://localhost:8080/"
        },
        "id": "VD6d_ZUNhAym",
        "outputId": "683e0876-190b-42aa-f4e3-5030703e1ad7"
      },
      "execution_count": null,
      "outputs": [
        {
          "output_type": "stream",
          "name": "stdout",
          "text": [
            "Zscore is -1.50 and Norm is 0.0668\n",
            "Zscore is -0.20 and Norm is 0.4207\n",
            "Zscore is 0.00 and Norm is 0.5000\n",
            "Zscore is 0.70 and Norm is 0.7580\n",
            "Zscore is 1.20 and Norm is 0.8849\n"
          ]
        }
      ]
    },
    {
      "cell_type": "code",
      "source": [
        "# Define vectors as lists\n",
        "v1 = [3, 2, 5]\n",
        "v2 = [4, 5, 6]\n",
        "\n",
        "dot = sum(v1i * v2i for v1i, v2i in zip(v1, v2))\n",
        "print(dot)\n",
        "\n",
        "mag = (sum(v1i ** 2 for v1i in v1)) ** 0.5\n",
        "print(round(mag,2), mag)"
      ],
      "metadata": {
        "colab": {
          "base_uri": "https://localhost:8080/"
        },
        "id": "UT6juezTrz5X",
        "outputId": "8a4de7d5-5bb3-42cb-8865-d0963ca64600"
      },
      "execution_count": null,
      "outputs": [
        {
          "output_type": "stream",
          "name": "stdout",
          "text": [
            "52\n",
            "6.16 6.164414002968976\n"
          ]
        }
      ]
    },
    {
      "cell_type": "code",
      "source": [
        "import math, ast\n",
        "data = ast.literal_eval(input())\n",
        "u, v = data\n",
        "\n",
        "# Input has been taken for you and the lists u and v have been extracted\n",
        "# Write your code below\n",
        "\n",
        "def vector_operations(u, v):\n",
        "\n",
        "    if not (len(u) == len(v)):\n",
        "        return \"Invalid input\"\n",
        "\n",
        "    mag1 = (sum(ui ** 2 for ui in u)) ** 0.5\n",
        "    mag2 = (sum(vi ** 2 for vi in v)) ** 0.5\n",
        "\n",
        "    dot = sum(ui * vi for ui, vi in zip(u,v))\n",
        "\n",
        "    return (round(mag1,2), round(mag2, 2), dot)\n",
        "\n",
        "print(vector_operations(u,v))"
      ],
      "metadata": {
        "id": "NCKfSLZlw5XE"
      },
      "execution_count": null,
      "outputs": []
    },
    {
      "cell_type": "code",
      "source": [
        "from sympy import symbols, diff\n",
        "\n",
        "# Define variables\n",
        "x, y = symbols('x y')\n",
        "\n",
        "# Define a function\n",
        "f = x**2 + 3*x*y + y**2\n",
        "\n",
        "# Compute partial derivative with respect to x\n",
        "partial_x = diff(f, x)\n",
        "print(\"Partial derivative with respect to x:\", partial_x)\n",
        "\n",
        "# Compute partial derivative with respect to y\n",
        "partial_y = diff(f, y)\n",
        "print(\"Partial derivative with respect to y:\", partial_y)\n"
      ],
      "metadata": {
        "id": "1zjQ9OfF49JX",
        "outputId": "30f62c73-ea7a-4748-fd2b-0477740b5b63",
        "colab": {
          "base_uri": "https://localhost:8080/"
        }
      },
      "execution_count": null,
      "outputs": [
        {
          "output_type": "stream",
          "name": "stdout",
          "text": [
            "Partial derivative with respect to x: 2*x + 3*y\n",
            "Partial derivative with respect to y: 3*x + 2*y\n"
          ]
        }
      ]
    },
    {
      "cell_type": "code",
      "source": [
        "def is_palindrome(word):\n",
        "  s = word.lower()\n",
        "  reversed_word = ''\n",
        "  for char in s:\n",
        "    reversed_word = char + reversed_word\n",
        "    print(reversed_word)\n",
        "  if s == reversed_word:\n",
        "    return True\n",
        "  else:\n",
        "    return False\n",
        "\n",
        "is_palindrome(\"abcba\")"
      ],
      "metadata": {
        "colab": {
          "base_uri": "https://localhost:8080/"
        },
        "id": "iJ_bq6xyfOgT",
        "outputId": "b4a46a2f-abf8-4c3a-8299-3de6a82f9cbb"
      },
      "execution_count": null,
      "outputs": [
        {
          "output_type": "stream",
          "name": "stdout",
          "text": [
            "a\n",
            "ba\n",
            "cba\n",
            "bcba\n",
            "abcba\n"
          ]
        },
        {
          "output_type": "execute_result",
          "data": {
            "text/plain": [
              "True"
            ]
          },
          "metadata": {},
          "execution_count": 3
        }
      ]
    },
    {
      "cell_type": "code",
      "source": [
        "def is_palindrome_2(word):\n",
        "  reversed_word = word.lower()[::-1]\n",
        "  if word == reversed_word:\n",
        "    return True\n",
        "  else:\n",
        "    return False\n",
        "\n",
        "is_palindrome_2(\"abcba\")"
      ],
      "metadata": {
        "colab": {
          "base_uri": "https://localhost:8080/"
        },
        "id": "ybrRg40egQIs",
        "outputId": "e3c4ed55-dcea-4e50-f609-d31c32b44bb6"
      },
      "execution_count": null,
      "outputs": [
        {
          "output_type": "execute_result",
          "data": {
            "text/plain": [
              "True"
            ]
          },
          "metadata": {},
          "execution_count": 5
        }
      ]
    },
    {
      "cell_type": "code",
      "source": [
        "def twoSum(nums, target):\n",
        "        output = []\n",
        "        left = 0\n",
        "        right = len(nums) - 1\n",
        "\n",
        "        \"\"\"nums.sort()\"\"\"\n",
        "        while (left < right):\n",
        "            if (nums[left] + nums[right] == target):\n",
        "                print(\"1\", left, right, (nums[left] + nums[right]))\n",
        "                output = [left, right]\n",
        "                left += 1\n",
        "                right -= 1\n",
        "            elif ((nums[left] + nums[right]) > target):\n",
        "                print(\"2\", left, right, (nums[left] + nums[right]) )\n",
        "                right -= 1\n",
        "            else:\n",
        "                print(\"3\",left, right, (nums[left] + nums[right]))\n",
        "                left += 1\n",
        "        return output\n",
        "\n",
        "twoSum([3,2,4], 6)\n"
      ],
      "metadata": {
        "colab": {
          "base_uri": "https://localhost:8080/"
        },
        "id": "dwEFkONjYxNM",
        "outputId": "c2423061-1b85-4293-8493-5c54ef8a6c21"
      },
      "execution_count": null,
      "outputs": [
        {
          "output_type": "stream",
          "name": "stdout",
          "text": [
            "2 0 2 7\n",
            "3 0 1 5\n"
          ]
        },
        {
          "output_type": "execute_result",
          "data": {
            "text/plain": [
              "[]"
            ]
          },
          "metadata": {},
          "execution_count": 8
        }
      ]
    },
    {
      "cell_type": "code",
      "source": [
        "def valid_brackets(string):\n",
        "  stack = []\n",
        "  mapping = {'}':'{', ']':'[', ')':'('}\n",
        "\n",
        "  for bracket in string:\n",
        "    if bracket in mapping:\n",
        "      if not stack:\n",
        "        return False\n",
        "      top_element = stack.pop()\n",
        "      if top_element != mapping[bracket]:\n",
        "        return False\n",
        "    else: stack.append(bracket)\n",
        "  return not stack\n",
        "\n",
        "valid_brackets(\"{{[()]}}\")"
      ],
      "metadata": {
        "colab": {
          "base_uri": "https://localhost:8080/"
        },
        "id": "b_vIrw2AmJJm",
        "outputId": "e9729617-2fb9-4215-f7f8-c523cc099107"
      },
      "execution_count": null,
      "outputs": [
        {
          "output_type": "execute_result",
          "data": {
            "text/plain": [
              "True"
            ]
          },
          "metadata": {},
          "execution_count": 9
        }
      ]
    },
    {
      "cell_type": "code",
      "source": [
        "valid_brackets(\"[({}[])()]\")"
      ],
      "metadata": {
        "colab": {
          "base_uri": "https://localhost:8080/"
        },
        "id": "iP4zKQnVtbIg",
        "outputId": "41066a7b-d62e-4b6a-96ae-984bf020a352"
      },
      "execution_count": null,
      "outputs": [
        {
          "output_type": "execute_result",
          "data": {
            "text/plain": [
              "True"
            ]
          },
          "metadata": {},
          "execution_count": 10
        }
      ]
    },
    {
      "cell_type": "code",
      "source": [
        "#RomanNumarels\n",
        "\n",
        "def roman_to_decimal(string):\n",
        "  total = 0\n",
        "  roman = {'I': 1, 'V': 5, 'X': 10, 'L': 50, 'C': 100 , 'D': 500 , 'M': 1000 }\n",
        "  valid_subtractive = ['IV', 'IX', 'XL', 'XC', 'CD', 'CM']\n",
        "  i = 0\n",
        "  while (i < len(string)):\n",
        "    if (i + 1) < len(string) and (string[i] + string [i + 1]) in valid_subtractive:\n",
        "      total += roman[string[i+1]] - roman[string[i]]\n",
        "      i += 2\n",
        "    else:\n",
        "      total += roman[string[i]]\n",
        "      i += 1\n",
        "  return total"
      ],
      "metadata": {
        "id": "Wl3b7Tu2dT1Z"
      },
      "execution_count": null,
      "outputs": []
    },
    {
      "cell_type": "code",
      "source": [
        "roman_to_decimal(\"IV\")"
      ],
      "metadata": {
        "colab": {
          "base_uri": "https://localhost:8080/"
        },
        "id": "VcFdDuzSg_0A",
        "outputId": "341ea048-4f7b-4810-8811-da0cb51016ce"
      },
      "execution_count": null,
      "outputs": [
        {
          "output_type": "execute_result",
          "data": {
            "text/plain": [
              "4"
            ]
          },
          "metadata": {},
          "execution_count": 9
        }
      ]
    },
    {
      "cell_type": "code",
      "source": [
        "roman_to_decimal('MMM')"
      ],
      "metadata": {
        "colab": {
          "base_uri": "https://localhost:8080/"
        },
        "id": "TNuIGnzLdTH0",
        "outputId": "f7503b69-a00a-4064-dfab-4aeec60ec9ba"
      },
      "execution_count": null,
      "outputs": [
        {
          "output_type": "execute_result",
          "data": {
            "text/plain": [
              "3000"
            ]
          },
          "metadata": {},
          "execution_count": 10
        }
      ]
    },
    {
      "cell_type": "code",
      "source": [
        "roman_to_decimal('MCMXCIV')"
      ],
      "metadata": {
        "colab": {
          "base_uri": "https://localhost:8080/"
        },
        "id": "oafxysfiiMTz",
        "outputId": "7c51f9ce-0f30-4c40-8811-ff1e36f419bc"
      },
      "execution_count": null,
      "outputs": [
        {
          "output_type": "execute_result",
          "data": {
            "text/plain": [
              "1994"
            ]
          },
          "metadata": {},
          "execution_count": 11
        }
      ]
    },
    {
      "cell_type": "code",
      "source": [
        "def inches_to_cm(length_in_inches):\n",
        "  return length_in_inches * 2.54\n",
        "length_in_inches = [28, 30, 32, 34]\n",
        "\n",
        "length_in_cm = list(map(inches_to_cm, length_in_inches))\n",
        "print(\"Length in cm: \", length_in_cm)"
      ],
      "metadata": {
        "colab": {
          "base_uri": "https://localhost:8080/"
        },
        "id": "Xj48WHwX_ndV",
        "outputId": "58767a34-e813-498b-c463-c6180019f108"
      },
      "execution_count": null,
      "outputs": [
        {
          "output_type": "stream",
          "name": "stdout",
          "text": [
            "Length in cm:  [71.12, 76.2, 81.28, 86.36]\n"
          ]
        }
      ]
    },
    {
      "cell_type": "code",
      "source": [
        "def is_even(number):\n",
        "  return number%2 == 0\n",
        "\n",
        "numbers = [1, 2, 3, 4, 5, 6]\n",
        "\n",
        "even_numbers = filter(is_even, numbers)\n",
        "print(even_numbers)\n",
        "print(list(even_numbers))"
      ],
      "metadata": {
        "colab": {
          "base_uri": "https://localhost:8080/"
        },
        "id": "XaiY3RIFDm0g",
        "outputId": "b7dba347-6652-4363-db22-2597cbe12a87"
      },
      "execution_count": null,
      "outputs": [
        {
          "output_type": "stream",
          "name": "stdout",
          "text": [
            "<filter object at 0x7c977c2edcc0>\n",
            "[2, 4, 6]\n"
          ]
        }
      ]
    },
    {
      "cell_type": "code",
      "source": [
        "from functools import reduce\n",
        "\n",
        "def add_sales(total, current_sale):\n",
        "  return total + current_sale\n",
        "\n",
        "daily_sales = [1200, 2500, 3200, 1500, 2750]\n",
        "\n",
        "total_revenue = reduce(add_sales, daily_sales)\n",
        "\n",
        "print(\"Total Revenue:\", total_revenue)"
      ],
      "metadata": {
        "colab": {
          "base_uri": "https://localhost:8080/"
        },
        "id": "jEeSLfbKF0VW",
        "outputId": "41257eb4-255d-47a4-a051-7bf95f4659bc"
      },
      "execution_count": null,
      "outputs": [
        {
          "output_type": "stream",
          "name": "stdout",
          "text": [
            "Total Revenue: 11150\n"
          ]
        }
      ]
    },
    {
      "cell_type": "code",
      "source": [
        "products = [\"T-shirt\", \"Jeans\", \"Sneakers\", \"Jacket\"]\n",
        "prices = [799, 1299, 2199, 1799]\n",
        "\n",
        "product_catalog = list(zip(products, prices))\n",
        "\n",
        "print(\"Product Catalog:\", product_catalog)"
      ],
      "metadata": {
        "colab": {
          "base_uri": "https://localhost:8080/"
        },
        "id": "_hufhs5LH_6W",
        "outputId": "4be76bd2-dc0c-40eb-d2a2-b44ec933d8a6"
      },
      "execution_count": null,
      "outputs": [
        {
          "output_type": "stream",
          "name": "stdout",
          "text": [
            "Product Catalog: [('T-shirt', 799), ('Jeans', 1299), ('Sneakers', 2199), ('Jacket', 1799)]\n"
          ]
        }
      ]
    },
    {
      "cell_type": "code",
      "source": [
        "items = ['apple', 'banana', 'cherry']\n",
        "\n",
        "for index, item in enumerate(items):\n",
        "  print(index, item)\n",
        "\n",
        "for index, item in enumerate(items, start=1):\n",
        "  print(index, item)\n"
      ],
      "metadata": {
        "colab": {
          "base_uri": "https://localhost:8080/"
        },
        "id": "zhzgaUd3LtlT",
        "outputId": "81936c1e-4e46-46ed-a1ba-645e3d868662"
      },
      "execution_count": null,
      "outputs": [
        {
          "output_type": "stream",
          "name": "stdout",
          "text": [
            "0 apple\n",
            "1 banana\n",
            "2 cherry\n",
            "1 apple\n",
            "2 banana\n",
            "3 cherry\n"
          ]
        }
      ]
    },
    {
      "cell_type": "code",
      "source": [
        "values = [0, 0, 5, 0]\n",
        "print(any(values))\n",
        "\n",
        "scores = [1, 5, 10, 20, 25]\n",
        "print(any(score > 50 for score in scores))\n"
      ],
      "metadata": {
        "colab": {
          "base_uri": "https://localhost:8080/"
        },
        "id": "hxytzz6eMd8I",
        "outputId": "00d7a118-50a9-4c02-921e-05c1963ce768"
      },
      "execution_count": null,
      "outputs": [
        {
          "output_type": "stream",
          "name": "stdout",
          "text": [
            "True\n",
            "False\n"
          ]
        }
      ]
    },
    {
      "cell_type": "code",
      "source": [
        "temperatures = [22, 25, 27, 30]\n",
        "print(all(t > 20 for t in temperatures))\n",
        "\n",
        "flags = [True, True, False]\n",
        "print(all(flags))"
      ],
      "metadata": {
        "colab": {
          "base_uri": "https://localhost:8080/"
        },
        "id": "0zMUJvYHNTf9",
        "outputId": "8a9bfa47-bb0b-41d7-a4d3-b89795b4482d"
      },
      "execution_count": null,
      "outputs": [
        {
          "output_type": "stream",
          "name": "stdout",
          "text": [
            "True\n",
            "False\n"
          ]
        }
      ]
    },
    {
      "cell_type": "code",
      "source": [
        "orders_per_city = {\n",
        "    \"Mumbai\": 150,\n",
        "    \"Delhi\": 120,\n",
        "    \"Bangalore\": 180,\n",
        "    \"Chennai\": 90,\n",
        "    \"Kolkata\": 110\n",
        "}\n",
        "\n",
        "print(\"total orders\", sum(orders_per_city.values()))\n",
        "print(\"Max city:\", max(orders_per_city.values()))\n",
        "print(\"Min city:\", min(orders_per_city, key=orders_per_city.get))\n"
      ],
      "metadata": {
        "colab": {
          "base_uri": "https://localhost:8080/"
        },
        "id": "BRVgyVubNyKq",
        "outputId": "745207d7-1aa2-4350-e7fd-87cb33c816b0"
      },
      "execution_count": null,
      "outputs": [
        {
          "output_type": "stream",
          "name": "stdout",
          "text": [
            "total orders 650\n",
            "Max city: 180\n",
            "Min city: Chennai\n"
          ]
        }
      ]
    },
    {
      "cell_type": "code",
      "source": [
        "products = [\n",
        "    {'name':'A', 'rating':4.6},\n",
        "    {'name':'B', 'rating':4.8},\n",
        "    {'name':'C', 'rating':4.3}\n",
        "]\n",
        "top_product = max(products, key=lambda product: product['rating'])\n",
        "\n",
        "print(f\"{top_product['name']}(Rating: {top_product['rating']})\")"
      ],
      "metadata": {
        "colab": {
          "base_uri": "https://localhost:8080/"
        },
        "id": "kgzEqa3ePfRz",
        "outputId": "4b9a9983-e1bb-444e-eecb-fbfa360e5741"
      },
      "execution_count": null,
      "outputs": [
        {
          "output_type": "stream",
          "name": "stdout",
          "text": [
            "B(Rating: 4.8)\n"
          ]
        }
      ]
    },
    {
      "cell_type": "code",
      "source": [
        "from tqdm import tqdm\n",
        "import time\n",
        "\n",
        "order_ids =[f\"ORD{1000 + i}\" for i in range(10)]\n",
        "print(list(f\"ORD{1000 + i}\" for i in range(10)))\n",
        "print(\"processing orders...\")\n",
        "\n",
        "for order in tqdm(order_ids):\n",
        "  time.sleep(0.2)"
      ],
      "metadata": {
        "colab": {
          "base_uri": "https://localhost:8080/"
        },
        "id": "Kg4Bg2kLTdeq",
        "outputId": "6afe1234-c02c-4986-9b3e-ddde4235ddd6"
      },
      "execution_count": null,
      "outputs": [
        {
          "output_type": "stream",
          "name": "stdout",
          "text": [
            "['ORD1000', 'ORD1001', 'ORD1002', 'ORD1003', 'ORD1004', 'ORD1005', 'ORD1006', 'ORD1007', 'ORD1008', 'ORD1009']\n",
            "processing orders...\n"
          ]
        },
        {
          "output_type": "stream",
          "name": "stderr",
          "text": [
            "100%|██████████| 10/10 [00:02<00:00,  4.97it/s]\n"
          ]
        }
      ]
    },
    {
      "cell_type": "code",
      "source": [
        "#decorators\n",
        "\n",
        "def greet(func):\n",
        "  def wrapper():\n",
        "    print(\"Hello!\")\n",
        "    func()\n",
        "  return wrapper\n",
        "@greet\n",
        "def welcome():\n",
        "  print(\"Welcome\")\n",
        "\n",
        "welcome()"
      ],
      "metadata": {
        "colab": {
          "base_uri": "https://localhost:8080/"
        },
        "id": "OjJZaU8TtUuT",
        "outputId": "7de9effe-4b98-4b7c-9e5e-45d907cf54f7"
      },
      "execution_count": null,
      "outputs": [
        {
          "output_type": "stream",
          "name": "stdout",
          "text": [
            "Hello!\n",
            "Welcome\n"
          ]
        }
      ]
    },
    {
      "cell_type": "code",
      "source": [
        "from functools import lru_cache\n",
        "import time\n",
        "\n",
        "@lru_cache(maxsize = 10)\n",
        "def get_exchange_rate(currency: str) -> float:\n",
        "  print(f\"Fetching rate for {currency}..\")\n",
        "  time.sleep(2)\n",
        "  return{\n",
        "      \"USD\": 83.12,\n",
        "      \"EUR\": 89.45,\n",
        "      \"JPY\": 0.56\n",
        "  }.get(currency, 1.0)\n",
        "\n",
        "print(get_exchange_rate(\"USD\"))\n",
        "\n",
        "print(get_exchange_rate(\"USD\"))\n",
        "print(get_exchange_rate(\"JPY\"))\n",
        "\n",
        "print(get_exchange_rate.cache_info())\n",
        "print(get_exchange_rate.cache_clear())"
      ],
      "metadata": {
        "colab": {
          "base_uri": "https://localhost:8080/"
        },
        "id": "AIBEvpx7xiJb",
        "outputId": "9e079e98-a1ce-4ae8-8cd8-1ebe0b9da299"
      },
      "execution_count": null,
      "outputs": [
        {
          "output_type": "stream",
          "name": "stdout",
          "text": [
            "Fetching rate for USD..\n",
            "83.12\n",
            "83.12\n",
            "Fetching rate for JPY..\n",
            "0.56\n",
            "CacheInfo(hits=1, misses=2, maxsize=10, currsize=2)\n",
            "None\n"
          ]
        }
      ]
    },
    {
      "cell_type": "code",
      "source": [
        "#cache\n",
        "\n",
        "from functools import cache\n",
        "import time\n",
        "\n",
        "@cache\n",
        "def slow_multiply(x, y):\n",
        "  print(\"slow multiply...\")\n",
        "  time.sleep(2)\n",
        "  return (x * y)\n",
        "\n",
        "print(slow_multiply(4, 5))\n",
        "print(slow_multiply(4, 5))\n",
        "print(slow_multiply(8, 9))"
      ],
      "metadata": {
        "colab": {
          "base_uri": "https://localhost:8080/"
        },
        "id": "4zg0omAjKnUj",
        "outputId": "95f323c4-8970-4e0b-955d-9bcd2e1b31f5"
      },
      "execution_count": null,
      "outputs": [
        {
          "output_type": "stream",
          "name": "stdout",
          "text": [
            "slow multiply...\n",
            "20\n",
            "20\n",
            "slow multiply...\n",
            "72\n"
          ]
        }
      ]
    },
    {
      "cell_type": "code",
      "source": [
        "from contextlib import contextmanager\n",
        "import time\n",
        "\n",
        "@contextmanager\n",
        "def log_time(task_name):\n",
        "    start = time.time()\n",
        "    print(f\"[{task_name}] started...\")\n",
        "    yield\n",
        "    end = time.time()\n",
        "    print(f\"[{task_name}] completed in {end - start:.2f} seconds\")\n",
        "\n",
        "with log_time(\"process_data\"):\n",
        "    time.sleep(2)\n",
        "\n",
        "with log_time(\"save_results\"):\n",
        "    time.sleep(1)"
      ],
      "metadata": {
        "colab": {
          "base_uri": "https://localhost:8080/"
        },
        "id": "nZoMxBJRPL8y",
        "outputId": "15e9e517-01b2-4f94-b27f-3a575a477677"
      },
      "execution_count": null,
      "outputs": [
        {
          "output_type": "stream",
          "name": "stdout",
          "text": [
            "[process_data] started...\n",
            "[process_data] completed in 2.00 seconds\n",
            "[save_results] started...\n",
            "[save_results] completed in 1.00 seconds\n"
          ]
        }
      ]
    },
    {
      "cell_type": "code",
      "source": [
        "import atexit\n",
        "\n",
        "@atexit.register\n",
        "def goodbye():\n",
        "  print(\"Program is exiting. Cleaning up...\")\n",
        "\n",
        "print(\"Main program is running..\")"
      ],
      "metadata": {
        "colab": {
          "base_uri": "https://localhost:8080/"
        },
        "id": "QQzANwhdSpy-",
        "outputId": "c24c01c5-2518-4755-cf8c-37952e99c413"
      },
      "execution_count": null,
      "outputs": [
        {
          "output_type": "stream",
          "name": "stdout",
          "text": [
            "Main program is running..\n"
          ]
        }
      ]
    },
    {
      "cell_type": "code",
      "source": [
        "import signal\n",
        "import time\n",
        "\n",
        "def handler(signum, frame):\n",
        "  print(\"\\n Interrupt received! Cleanup before exit...\")\n",
        "  time.sleep(1)\n",
        "  print(\"Cleanup done. Exiting now.\")\n",
        "  exit(0)\n",
        "\n",
        "signal.signal(signal.SIGINT, handler)\n",
        "\n",
        "print(\"Processing.. Press ctrl+c to stop.\")\n",
        "\n",
        "while True:\n",
        "  time.sleep(1)\n",
        "  print(\"Working...\")"
      ],
      "metadata": {
        "colab": {
          "base_uri": "https://localhost:8080/"
        },
        "id": "gRf7MhCJkFOn",
        "outputId": "b9fa32b9-4736-42bf-e94d-b04223205d96"
      },
      "execution_count": null,
      "outputs": [
        {
          "output_type": "stream",
          "name": "stdout",
          "text": [
            "Processing.. Press ctrl+c to stop.\n",
            "Working...\n",
            "Working...\n",
            "Working...\n",
            "Working...\n",
            "Working...\n",
            "Working...\n",
            "Working...\n",
            "Working...\n",
            "Working...\n",
            "Working...\n",
            "Working...\n",
            "Working...\n",
            "Working...\n",
            "Working...\n",
            "Working...\n",
            "Working...\n",
            "Working...\n",
            "Working...\n",
            "Working...\n",
            "Working...\n",
            "Working...\n",
            "\n",
            " Interrupt received! Cleanup before exit...\n",
            "\n",
            " Interrupt received! Cleanup before exit...\n",
            "Cleanup done. Exiting now.\n",
            "Cleanup done. Exiting now.\n",
            "Working...\n",
            "Working...\n",
            "Working...\n",
            "Working...\n",
            "Working...\n",
            "Working...\n",
            "Working...\n",
            "Working...\n",
            "Working...\n",
            "Working...\n",
            "Working...\n",
            "Working...\n",
            "Working...\n",
            "Working...\n",
            "Working...\n",
            "Working...\n",
            "Working...\n",
            "Working...\n",
            "Working...\n",
            "Working...\n",
            "Working...\n",
            "Working...\n",
            "Working...\n",
            "Working...\n",
            "Working...\n",
            "Working...\n",
            "Working...\n",
            "Working...\n",
            "Working...\n",
            "Working...\n",
            "Working...\n",
            "\n",
            " Interrupt received! Cleanup before exit...\n",
            "Cleanup done. Exiting now.\n",
            "Working...\n",
            "Working...\n",
            "Working...\n",
            "Working...\n",
            "Working...\n",
            "Working...\n",
            "Working...\n",
            "\n",
            " Interrupt received! Cleanup before exit...\n",
            "Cleanup done. Exiting now.\n",
            "Working...\n",
            "Working...\n"
          ]
        }
      ]
    },
    {
      "cell_type": "code",
      "source": [
        "from logging import exception\n",
        "try:\n",
        "  units = int(input(\"Enter units produced:\"))\n",
        "  hours = int(input(\"Enter hours worked:\"))\n",
        "  efficiency = units/hours\n",
        "  print(f\"Efficiency: {efficiency:.2f} units/hour\")\n",
        "\n",
        "except ZeroDivisionError:\n",
        "  print(\"Hours cannot be zero\")\n",
        "except ValueError:\n",
        "  print(\"Please enter valid numbers\")"
      ],
      "metadata": {
        "colab": {
          "base_uri": "https://localhost:8080/"
        },
        "id": "YscPN6XtlLDS",
        "outputId": "c12a6368-3e60-469d-bbc4-03854bbab136"
      },
      "execution_count": null,
      "outputs": [
        {
          "output_type": "stream",
          "name": "stdout",
          "text": [
            "Enter units produced:io\n",
            "Please enter valid numbers\n"
          ]
        }
      ]
    },
    {
      "cell_type": "code",
      "source": [
        "data = [\"25\", \"hello\", \"42\", \"\"]\n",
        "\n",
        "for item in data:\n",
        "  try:\n",
        "    number = int(item)\n",
        "    print(f\"converted: {number}\")\n",
        "  except ValueError:\n",
        "    print(f\"could not convert '{item}' to number.\")"
      ],
      "metadata": {
        "colab": {
          "base_uri": "https://localhost:8080/"
        },
        "id": "9RgSFxnb1Qg-",
        "outputId": "1ec8da94-9074-41d2-fc5c-a00de876a633"
      },
      "execution_count": null,
      "outputs": [
        {
          "output_type": "stream",
          "name": "stdout",
          "text": [
            "converted: 25\n",
            "could not convert 'hello' to number.\n",
            "converted: 42\n",
            "could not convert '' to number.\n"
          ]
        }
      ]
    },
    {
      "cell_type": "code",
      "source": [
        "try:\n",
        "  amount = int(input(\"Enter amount:\"))\n",
        "  if amount < 0:\n",
        "    raise ValueError(\"Amount cannot be negative!\")\n",
        "  print(f\"Amount entered: {amount}\")\n",
        "except ValueError as e:\n",
        "  print(f\"Input Error: {e}\")"
      ],
      "metadata": {
        "colab": {
          "base_uri": "https://localhost:8080/"
        },
        "id": "QupJS15-15QC",
        "outputId": "525b01ce-0341-4f62-acc3-ad27d15de90b"
      },
      "execution_count": null,
      "outputs": [
        {
          "output_type": "stream",
          "name": "stdout",
          "text": [
            "Enter amount:-9\n",
            "Input Error: Amount cannot be negative!\n"
          ]
        }
      ]
    },
    {
      "cell_type": "code",
      "source": [
        "import logging\n",
        "\n",
        "#asctime = timestamp\n",
        "#levelname = log level name\n",
        "#message = the actual log message\n",
        "\n",
        "logging.basicConfig(\n",
        "    level = logging.INFO,\n",
        "    format='%(asctime)s - %(levelname)s -%(message)s'\n",
        ")\n",
        "\n",
        "logging.debug(\"Debugging details: Starting process\")\n",
        "logging.info(\"Information: Process Started\")\n",
        "logging.warning(\"Warning: Resource usage is High\")\n",
        "logging.error(\"Error: Process failed\")\n",
        "logging.critical(\"Critical: System shutting down\")"
      ],
      "metadata": {
        "colab": {
          "base_uri": "https://localhost:8080/"
        },
        "id": "IH2p-eWq_f8q",
        "outputId": "c9644420-6d95-44a8-98c0-62c6d86eb950"
      },
      "execution_count": null,
      "outputs": [
        {
          "output_type": "stream",
          "name": "stderr",
          "text": [
            "WARNING:root:Warning: Resource usage is High\n",
            "ERROR:root:Error: Process failed\n",
            "CRITICAL:root:Critical: System shutting down\n"
          ]
        }
      ]
    },
    {
      "cell_type": "code",
      "source": [
        "file = open('feedback.txt', 'w')\n",
        "file.write(\"Great product! Delivered on time.\\n\")\n",
        "file.close()\n",
        "\n",
        "file = open('feedback.txt', 'r')\n",
        "content = file.read()\n",
        "print(content)\n",
        "file.close()\n",
        "\n",
        "with open('feedback.txt', 'a') as file:\n",
        "  file.write(\"Excellent customer service\")\n",
        "\n",
        "file = open('feedback.txt', 'r')\n",
        "#print( file.read())\n",
        "#print(file.readline())\n",
        "#print(file.readlines())\n",
        "lines = file.readlines()\n",
        "for line in lines:\n",
        "  print(\"-\"+line.strip())\n",
        "file.close()\n",
        "\n",
        "with open('feedback.txt','a') as file:\n",
        "  file.write(\"Fast delivery, very impressed\")\n",
        "\n",
        "file = open('feedback.txt', 'r')\n",
        "#print( file.read())\n",
        "#print(file.readline())\n",
        "#print(file.readlines())\n",
        "lines = file.readlines()\n",
        "for line in lines:\n",
        "  print(\"-\"+line.strip())\n",
        "file.close()\n",
        "\n"
      ],
      "metadata": {
        "colab": {
          "base_uri": "https://localhost:8080/"
        },
        "id": "RH2ve84TDdMm",
        "outputId": "3bb1c765-294e-48f4-9c8f-3bf182972e67"
      },
      "execution_count": null,
      "outputs": [
        {
          "output_type": "stream",
          "name": "stdout",
          "text": [
            "Great product! Delivered on time.\n",
            "\n",
            "-Great product! Delivered on time.\n",
            "-Excellent customer service\n",
            "-Great product! Delivered on time.\n",
            "-Excellent customer serviceFast delivery, very impressed\n"
          ]
        }
      ]
    },
    {
      "cell_type": "code",
      "source": [
        "from pathlib import Path\n",
        "report_dir = Path(\"reports\")\n",
        "report_dir.mkdir(exist_ok=True)\n",
        "report_file = report_dir/\"sales_summary.txt\"\n",
        "with report_file.open(\"w\") as file:\n",
        "  file.write(\"Summary report: Total sales rs.80,000\\n\")\n",
        "print(f\"Report saved at: {report_file.resolve()}\")\n"
      ],
      "metadata": {
        "colab": {
          "base_uri": "https://localhost:8080/"
        },
        "id": "q33tMWb3QQOA",
        "outputId": "e0113f55-731b-4000-a580-ea4e690d6916"
      },
      "execution_count": null,
      "outputs": [
        {
          "output_type": "stream",
          "name": "stdout",
          "text": [
            "Report saved at: /content/reports/sales_summary.txt\n"
          ]
        }
      ]
    },
    {
      "cell_type": "code",
      "source": [
        "#practise question 1\n",
        "# Taking input\n",
        "s = input()\n",
        "\n",
        "def longest_unique_substring(s):\n",
        "    # Write your code here\n",
        "    left = max_length = 0\n",
        "    char_set = set()\n",
        "\n",
        "    for right in range(len(s)):\n",
        "        while s[right] in char_set:\n",
        "            char_set.remove(s[left])\n",
        "            left += 1\n",
        "        char_set.add(s[right])\n",
        "        max_length = max(max_length, (right-left + 1))\n",
        "    return max_length\n",
        "\n",
        "\n",
        "# Print the output\n",
        "print(longest_unique_substring(s))"
      ],
      "metadata": {
        "colab": {
          "base_uri": "https://localhost:8080/"
        },
        "id": "s2vkNuo4jE4w",
        "outputId": "3d8a662d-0ee8-4b8c-8382-69ff47595288"
      },
      "execution_count": null,
      "outputs": [
        {
          "output_type": "stream",
          "name": "stdout",
          "text": [
            "abcabcbb\n",
            "3\n"
          ]
        }
      ]
    },
    {
      "cell_type": "code",
      "source": [
        "# Import literal_eval library to safely evaluate string input as a Python\n",
        "from ast import literal_eval\n",
        "\n",
        "# Taking input\n",
        "nums = literal_eval(input())\n",
        "\n",
        "def three_sum(nums):\n",
        "    # Write your code here\n",
        "    res = []\n",
        "    nums.sort()\n",
        "\n",
        "    for i in range(len(nums)):\n",
        "        if i > 0 and nums[i] == nums[i-1]:\n",
        "            continue\n",
        "\n",
        "        j = i + 1\n",
        "        k = len(nums) - 1\n",
        "        while j < k:\n",
        "            total = nums[i] + nums[j] + nums[k]\n",
        "\n",
        "            if total > 0:\n",
        "                k -= 1\n",
        "            elif total < 0:\n",
        "                j += 1\n",
        "            else:\n",
        "                res.append([nums[i], nums[j], nums[k]])\n",
        "                j += 1\n",
        "\n",
        "                while nums[j] == nums[j-1] and j < k:\n",
        "                    j += 1\n",
        "    return res\n",
        "\n",
        "# Print the output\n",
        "print(three_sum(nums))"
      ],
      "metadata": {
        "colab": {
          "base_uri": "https://localhost:8080/"
        },
        "id": "QoaDfswL7Gbl",
        "outputId": "bac1e8b7-bb06-454a-e12e-f8460c762d71"
      },
      "execution_count": null,
      "outputs": [
        {
          "output_type": "stream",
          "name": "stdout",
          "text": [
            "[-1, -1, 2, 2, 3, 0]\n",
            "[[-1, -1, 2]]\n"
          ]
        }
      ]
    },
    {
      "cell_type": "code",
      "source": [
        "# Taking the input\n",
        "name, base, allowance, deduction = input().split()\n",
        "base = float(base)\n",
        "allowance = float(allowance)\n",
        "deduction = float(deduction)\n",
        "\n",
        "# Write  your code here\n",
        "def generate_salary_statement(employee_name, basic_salary, bonus, deductions):\n",
        "    # Calculate the gross salary and net salary\n",
        "    gross_salary = basic_salary + bonus\n",
        "    net_salary = gross_salary - deductions\n",
        "\n",
        "    # Print the salary statement details\n",
        "    print(f\"Salary Statement for {employee_name}\")\n",
        "    print(f\"Basic Salary: ₹{basic_salary}\")\n",
        "    print(f\"Bonus: ₹{bonus}\")\n",
        "    print(f\"Deductions: ₹{deductions}\")\n",
        "    print(f\"Gross Salary: ₹{gross_salary}\")\n",
        "    print(f\"Net Salary: ₹{net_salary}\")\n",
        "\n",
        "\n",
        "# Print the output\n",
        "generate_salary_statement(name, base, allowance, deduction)"
      ],
      "metadata": {
        "colab": {
          "base_uri": "https://localhost:8080/"
        },
        "id": "V3OIJLLLHJM9",
        "outputId": "bf90b1b1-fde7-4b6c-b677-189fc52e0ffe"
      },
      "execution_count": null,
      "outputs": [
        {
          "output_type": "stream",
          "name": "stdout",
          "text": [
            "Rajesh 50000 8000 5000\n",
            "Salary Statement for Rajesh\n",
            "Basic Salary: ₹50000.0\n",
            "Bonus: ₹8000.0\n",
            "Deductions: ₹5000.0\n",
            "Gross Salary: ₹58000.0\n",
            "Net Salary: ₹53000.0\n"
          ]
        }
      ]
    },
    {
      "cell_type": "code",
      "source": [
        "maths = [80, 90, 70, 85]\n",
        "science = [85, 90, 95, 80]\n",
        "english = [75, 90, 80, 85]\n",
        "\n",
        "def evaluate_top_subjects(maths, science, english):\n",
        "      # Write your code here\n",
        "      high = 0\n",
        "      high_list = []\n",
        "      high_sub = \"\"\n",
        "      flag = 0\n",
        "      scores =  zip(maths, science, english)\n",
        "      for i, j, k in scores:\n",
        "            high = max(i, j, k)\n",
        "            if high == i:\n",
        "                  high_sub = \"Maths\"\n",
        "                  flag = 1\n",
        "            if high == j:\n",
        "                  if flag:\n",
        "                        high_sub = high_sub + \",Science\"\n",
        "                  else:\n",
        "                        high_sub = \"Science\"\n",
        "                        flag = 1\n",
        "            if high == k:\n",
        "                  if flag:\n",
        "                        high_sub += \",English\"\n",
        "                  else:\n",
        "                        high_sub = \"English\"\n",
        "            high_list.append(high_sub)\n",
        "            flag = 0\n",
        "      return high_list\n",
        "\n",
        "\n",
        "# Print the Output\n",
        "print(evaluate_top_subjects(maths, science, english))"
      ],
      "metadata": {
        "colab": {
          "base_uri": "https://localhost:8080/"
        },
        "id": "1-ntpD2dW_nE",
        "outputId": "f0e18761-2798-4a3d-9f2e-e84f68f891d4"
      },
      "execution_count": null,
      "outputs": [
        {
          "output_type": "stream",
          "name": "stdout",
          "text": [
            "['Science', 'Maths,Science,English', 'Science', 'Maths,English']\n"
          ]
        }
      ]
    },
    {
      "cell_type": "code",
      "source": [
        "maths = [80, 90, 70, 85]\n",
        "science = [85, 90, 95, 80]\n",
        "english = [75, 90, 80, 85]\n",
        "\n",
        "def evaluate_top_subjects(maths, science, english):\n",
        "    # Write your code here\n",
        "    subjects = ['Maths', 'Science', 'English']\n",
        "    result = []\n",
        "\n",
        "    for m, s, e in zip(maths, science, english):\n",
        "        scores = [m, s, e]\n",
        "        max_score = max(scores)\n",
        "        top_subjects = [subject for subject, score in zip(subjects, scores) if score == max_score]\n",
        "        result.append(','.join(top_subjects))\n",
        "\n",
        "    return result\n",
        "\n",
        "# Print the Output\n",
        "print(evaluate_top_subjects(maths, science, english))"
      ],
      "metadata": {
        "colab": {
          "base_uri": "https://localhost:8080/"
        },
        "id": "DbgA7emfYEvH",
        "outputId": "488a6b5a-ca0d-440e-9c02-7f37f5a9ca2a"
      },
      "execution_count": null,
      "outputs": [
        {
          "output_type": "stream",
          "name": "stdout",
          "text": [
            "['Science', 'Maths,Science,English', 'Science', 'Maths,English']\n"
          ]
        }
      ]
    },
    {
      "cell_type": "code",
      "source": [
        "items = [\"apple\", \"banana\", \"apple\", \"orange\", \"banana\", \"apple\"]\n",
        "\n",
        "\n",
        "def detect_repeats(items):\n",
        "    # Write your code here\n",
        "    item_dict = {}\n",
        "    result = []\n",
        "    for index, item in enumerate(items):\n",
        "        if item in item_dict:\n",
        "            result.append(f\"{item} repeats at index {index}, first found at index {item_dict[item]}\")\n",
        "        else:\n",
        "            item_dict[item] = index\n",
        "    return result\n",
        "\n",
        "\n",
        "\n",
        "# Print the Output\n",
        "print(detect_repeats(items))\n",
        "\n"
      ],
      "metadata": {
        "colab": {
          "base_uri": "https://localhost:8080/"
        },
        "id": "y6zErDgWkL8r",
        "outputId": "5dce6c13-4c4d-4a1f-908b-3f813c567ad7"
      },
      "execution_count": null,
      "outputs": [
        {
          "output_type": "stream",
          "name": "stdout",
          "text": [
            "['apple repeats at index 2, first found at index 0', 'banana repeats at index 4, first found at index 1', 'apple repeats at index 5, first found at index 0']\n"
          ]
        }
      ]
    },
    {
      "cell_type": "code",
      "source": [
        "import math\n",
        "import statistics\n",
        "\n",
        "# Taking the input\n",
        "\n",
        "user_input = input().strip().lower().split()\n",
        "\n",
        "operation = user_input[0]\n",
        "numbers = list(map(float, user_input[1:]))\n",
        "\n",
        "\n",
        "# Write your code below\n",
        "def func_op(operation, *args):\n",
        "    if not args:\n",
        "        return \"No numbers provided\"\n",
        "\n",
        "    if operation == \"sum\":\n",
        "        return sum(numbers)\n",
        "    elif operation == \"product\":\n",
        "        #return math.prod(numbers)\n",
        "        result = 1\n",
        "        for num in args:\n",
        "            result *= num\n",
        "        return result\n",
        "    elif operation == \"average\":\n",
        "        #return statistics.mean(numbers)\n",
        "        return sum(args)/len(args)\n",
        "    else:\n",
        "        return \"Invalid operation specified\"\n",
        "\n",
        "\n",
        "# Print the output\n",
        "print(func_op(operation, *numbers))\n"
      ],
      "metadata": {
        "colab": {
          "base_uri": "https://localhost:8080/"
        },
        "id": "25T_e8HJ04AS",
        "outputId": "ea0e983e-5a1c-45e1-9c33-27a35193ebed"
      },
      "execution_count": null,
      "outputs": [
        {
          "output_type": "stream",
          "name": "stdout",
          "text": [
            "sum 1 2 3 4\n",
            "10.0\n"
          ]
        }
      ]
    },
    {
      "cell_type": "code",
      "source": [
        "from ast import literal_eval\n",
        "\n",
        "# Taking the input\n",
        "words = literal_eval(input())\n",
        "\n",
        "def is_palindrome(word):\n",
        "    word.lower()\n",
        "    reversed_word = \"\"\n",
        "    for char in word:\n",
        "        reversed_word = char + reversed_word\n",
        "    if word == reversed_word:\n",
        "        return True\n",
        "    else:\n",
        "        return False\n",
        "\n",
        "def filter_palindromes_1(word_list):\n",
        "    # Write your code here\n",
        "    palin_list = []\n",
        "    for word in word_list:\n",
        "        if is_palindrome(word) == True:\n",
        "            palin_list.append(word)\n",
        "    return palin_list\n",
        "\n",
        "def filter_palindromes(word_list):\n",
        "    return list(filter(lambda word: word.lower() == word[::-1].lower(), word_list ))\n",
        "\n",
        "# Print the output\n",
        "print(filter_palindromes(words))"
      ],
      "metadata": {
        "id": "Qu10c8gF-4vC"
      },
      "execution_count": null,
      "outputs": []
    },
    {
      "cell_type": "code",
      "source": [
        "# Taking the input\n",
        "name = str(input( ).strip())\n",
        "age = int(input( ).strip())\n",
        "\n",
        "# Taking additional attributes as key=value pairs\n",
        "kwargs_input = input().strip()\n",
        "kwargs = {}\n",
        "\n",
        "# Parse the key=value pairs\n",
        "if kwargs_input:\n",
        "    for item in kwargs_input.split():\n",
        "        if '=' in item:\n",
        "            key, value = item.split('=', 1)\n",
        "            kwargs[key] = value\n",
        "\n",
        "# Write  your code here\n",
        "# Fill in the function's parameters and logic\n",
        "def convert(name, age, kwargs):\n",
        "    user_profile = {}\n",
        "    user_profile['name'] = name\n",
        "    user_profile['age'] = age\n",
        "    for key in kwargs:\n",
        "        user_profile[key] = kwargs[key]\n",
        "    return user_profile\n",
        "\n",
        "def build_user_profile(name, age, **kwargs):\n",
        "    profile = {'name': name, 'age': age}\n",
        "    profile.update(kwargs)\n",
        "    return profile\n",
        "\n",
        "\n",
        "\n",
        "# print the output\n",
        "#print(convert(name, age, kwargs))\n",
        "print(build_user_profile(name, age, **kwargs))\n",
        "\n"
      ],
      "metadata": {
        "colab": {
          "base_uri": "https://localhost:8080/",
          "height": 373
        },
        "id": "FetLepztA0Nx",
        "outputId": "f5579c65-6a70-4c4e-980a-e19a6a1eab7c"
      },
      "execution_count": null,
      "outputs": [
        {
          "name": "stdout",
          "output_type": "stream",
          "text": [
            "Alice 30 city=London\n"
          ]
        },
        {
          "output_type": "error",
          "ename": "KeyboardInterrupt",
          "evalue": "Interrupted by user",
          "traceback": [
            "\u001b[0;31m---------------------------------------------------------------------------\u001b[0m",
            "\u001b[0;31mKeyboardInterrupt\u001b[0m                         Traceback (most recent call last)",
            "\u001b[0;32m/tmp/ipython-input-3425729318.py\u001b[0m in \u001b[0;36m<cell line: 0>\u001b[0;34m()\u001b[0m\n\u001b[1;32m      1\u001b[0m \u001b[0;31m# Taking the input\u001b[0m\u001b[0;34m\u001b[0m\u001b[0;34m\u001b[0m\u001b[0m\n\u001b[1;32m      2\u001b[0m \u001b[0mname\u001b[0m \u001b[0;34m=\u001b[0m \u001b[0mstr\u001b[0m\u001b[0;34m(\u001b[0m\u001b[0minput\u001b[0m\u001b[0;34m(\u001b[0m \u001b[0;34m)\u001b[0m\u001b[0;34m.\u001b[0m\u001b[0mstrip\u001b[0m\u001b[0;34m(\u001b[0m\u001b[0;34m)\u001b[0m\u001b[0;34m)\u001b[0m\u001b[0;34m\u001b[0m\u001b[0;34m\u001b[0m\u001b[0m\n\u001b[0;32m----> 3\u001b[0;31m \u001b[0mage\u001b[0m \u001b[0;34m=\u001b[0m \u001b[0mint\u001b[0m\u001b[0;34m(\u001b[0m\u001b[0minput\u001b[0m\u001b[0;34m(\u001b[0m \u001b[0;34m)\u001b[0m\u001b[0;34m.\u001b[0m\u001b[0mstrip\u001b[0m\u001b[0;34m(\u001b[0m\u001b[0;34m)\u001b[0m\u001b[0;34m)\u001b[0m\u001b[0;34m\u001b[0m\u001b[0;34m\u001b[0m\u001b[0m\n\u001b[0m\u001b[1;32m      4\u001b[0m \u001b[0;34m\u001b[0m\u001b[0m\n\u001b[1;32m      5\u001b[0m \u001b[0;31m# Taking additional attributes as key=value pairs\u001b[0m\u001b[0;34m\u001b[0m\u001b[0;34m\u001b[0m\u001b[0m\n",
            "\u001b[0;32m/usr/local/lib/python3.12/dist-packages/ipykernel/kernelbase.py\u001b[0m in \u001b[0;36mraw_input\u001b[0;34m(self, prompt)\u001b[0m\n\u001b[1;32m   1175\u001b[0m                 \u001b[0;34m\"raw_input was called, but this frontend does not support input requests.\"\u001b[0m\u001b[0;34m\u001b[0m\u001b[0;34m\u001b[0m\u001b[0m\n\u001b[1;32m   1176\u001b[0m             )\n\u001b[0;32m-> 1177\u001b[0;31m         return self._input_request(\n\u001b[0m\u001b[1;32m   1178\u001b[0m             \u001b[0mstr\u001b[0m\u001b[0;34m(\u001b[0m\u001b[0mprompt\u001b[0m\u001b[0;34m)\u001b[0m\u001b[0;34m,\u001b[0m\u001b[0;34m\u001b[0m\u001b[0;34m\u001b[0m\u001b[0m\n\u001b[1;32m   1179\u001b[0m             \u001b[0mself\u001b[0m\u001b[0;34m.\u001b[0m\u001b[0m_parent_ident\u001b[0m\u001b[0;34m[\u001b[0m\u001b[0;34m\"shell\"\u001b[0m\u001b[0;34m]\u001b[0m\u001b[0;34m,\u001b[0m\u001b[0;34m\u001b[0m\u001b[0;34m\u001b[0m\u001b[0m\n",
            "\u001b[0;32m/usr/local/lib/python3.12/dist-packages/ipykernel/kernelbase.py\u001b[0m in \u001b[0;36m_input_request\u001b[0;34m(self, prompt, ident, parent, password)\u001b[0m\n\u001b[1;32m   1217\u001b[0m             \u001b[0;32mexcept\u001b[0m \u001b[0mKeyboardInterrupt\u001b[0m\u001b[0;34m:\u001b[0m\u001b[0;34m\u001b[0m\u001b[0;34m\u001b[0m\u001b[0m\n\u001b[1;32m   1218\u001b[0m                 \u001b[0;31m# re-raise KeyboardInterrupt, to truncate traceback\u001b[0m\u001b[0;34m\u001b[0m\u001b[0;34m\u001b[0m\u001b[0m\n\u001b[0;32m-> 1219\u001b[0;31m                 \u001b[0;32mraise\u001b[0m \u001b[0mKeyboardInterrupt\u001b[0m\u001b[0;34m(\u001b[0m\u001b[0;34m\"Interrupted by user\"\u001b[0m\u001b[0;34m)\u001b[0m \u001b[0;32mfrom\u001b[0m \u001b[0;32mNone\u001b[0m\u001b[0;34m\u001b[0m\u001b[0;34m\u001b[0m\u001b[0m\n\u001b[0m\u001b[1;32m   1220\u001b[0m             \u001b[0;32mexcept\u001b[0m \u001b[0mException\u001b[0m\u001b[0;34m:\u001b[0m\u001b[0;34m\u001b[0m\u001b[0;34m\u001b[0m\u001b[0m\n\u001b[1;32m   1221\u001b[0m                 \u001b[0mself\u001b[0m\u001b[0;34m.\u001b[0m\u001b[0mlog\u001b[0m\u001b[0;34m.\u001b[0m\u001b[0mwarning\u001b[0m\u001b[0;34m(\u001b[0m\u001b[0;34m\"Invalid Message:\"\u001b[0m\u001b[0;34m,\u001b[0m \u001b[0mexc_info\u001b[0m\u001b[0;34m=\u001b[0m\u001b[0;32mTrue\u001b[0m\u001b[0;34m)\u001b[0m\u001b[0;34m\u001b[0m\u001b[0;34m\u001b[0m\u001b[0m\n",
            "\u001b[0;31mKeyboardInterrupt\u001b[0m: Interrupted by user"
          ]
        }
      ]
    },
    {
      "cell_type": "code",
      "source": [
        "\n",
        "def filtered_zip(a, b):\n",
        "    # Write your code here\n",
        "    zip_list = []\n",
        "    if len(a) == len(b):\n",
        "        zip_list = [(l1, l2) for l1, l2 in zip(a, b) if l1 is not None and l2 is not None]\n",
        "    return zip_list\n",
        "\n",
        "\n",
        "# Print the output\n",
        "print(filtered_zip(a, b))"
      ],
      "metadata": {
        "colab": {
          "base_uri": "https://localhost:8080/",
          "height": 176
        },
        "id": "EjYMEL1vh-cU",
        "outputId": "8c9fc5ae-a7e2-47b3-ddfb-0a42b606dd81"
      },
      "execution_count": null,
      "outputs": [
        {
          "output_type": "error",
          "ename": "NameError",
          "evalue": "name 'a' is not defined",
          "traceback": [
            "\u001b[0;31m---------------------------------------------------------------------------\u001b[0m",
            "\u001b[0;31mNameError\u001b[0m                                 Traceback (most recent call last)",
            "\u001b[0;32m/tmp/ipython-input-3487445932.py\u001b[0m in \u001b[0;36m<cell line: 0>\u001b[0;34m()\u001b[0m\n\u001b[1;32m      8\u001b[0m \u001b[0;34m\u001b[0m\u001b[0m\n\u001b[1;32m      9\u001b[0m \u001b[0;31m# Print the output\u001b[0m\u001b[0;34m\u001b[0m\u001b[0;34m\u001b[0m\u001b[0m\n\u001b[0;32m---> 10\u001b[0;31m \u001b[0mprint\u001b[0m\u001b[0;34m(\u001b[0m\u001b[0mfiltered_zip\u001b[0m\u001b[0;34m(\u001b[0m\u001b[0ma\u001b[0m\u001b[0;34m,\u001b[0m \u001b[0mb\u001b[0m\u001b[0;34m)\u001b[0m\u001b[0;34m)\u001b[0m\u001b[0;34m\u001b[0m\u001b[0;34m\u001b[0m\u001b[0m\n\u001b[0m",
            "\u001b[0;31mNameError\u001b[0m: name 'a' is not defined"
          ]
        }
      ]
    },
    {
      "cell_type": "code",
      "source": [
        "def safe_integer_divide(a, b):\n",
        "    try:\n",
        "        # Ensure both inputs are integers\n",
        "        a = int(a)\n",
        "        b = int(b)\n",
        "        result = a // b\n",
        "        return result\n",
        "    except ZeroDivisionError:\n",
        "        return \"Error: Division by zero is not allowed.\"\n",
        "    except ValueError:\n",
        "        return \"Error: Both inputs must be integers.\"\n",
        "    except TypeError:\n",
        "        return \"Error: Invalid input types.\"\n"
      ],
      "metadata": {
        "id": "6n-QCoVCiLJp"
      },
      "execution_count": null,
      "outputs": []
    }
  ]
}