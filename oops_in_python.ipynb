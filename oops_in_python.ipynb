{
  "nbformat": 4,
  "nbformat_minor": 0,
  "metadata": {
    "colab": {
      "provenance": []
    },
    "kernelspec": {
      "name": "python3",
      "display_name": "Python 3"
    },
    "language_info": {
      "name": "python"
    }
  },
  "cells": [
    {
      "cell_type": "markdown",
      "source": [
        "Objective: Student Management System\n",
        "\n",
        "The goal of this system is to manage students' data efficiently as an administrator. The system will allow for creating, updating, and querying student records, managing courses, and making administrative changes to students' data."
      ],
      "metadata": {
        "id": "_CzxHW0hM4X4"
      }
    },
    {
      "cell_type": "markdown",
      "source": [
        "## Defining a Class and Creating an Object"
      ],
      "metadata": {
        "id": "50quJbPBNNX4"
      }
    },
    {
      "cell_type": "code",
      "execution_count": null,
      "metadata": {
        "id": "uNenftZFMMvO",
        "colab": {
          "base_uri": "https://localhost:8080/"
        },
        "outputId": "c82cded5-5f29-422e-b06c-1adf6032b6a9"
      },
      "outputs": [
        {
          "output_type": "stream",
          "name": "stdout",
          "text": [
            "<__main__.Course object at 0x78d46c39ecc0>\n"
          ]
        }
      ],
      "source": [
        "class Course:\n",
        "  pass\n",
        "\n",
        "course1 = Course()\n",
        "print(course1)"
      ]
    },
    {
      "cell_type": "code",
      "source": [
        "class Course:\n",
        "  def __init__(self, name, duration):\n",
        "    self.name = name\n",
        "    self.duration = duration\n",
        "\n",
        "course1 = Course(\"Data Science\", \"3 Months\")\n",
        "print(course1.name)\n",
        "print(course1.duration)"
      ],
      "metadata": {
        "colab": {
          "base_uri": "https://localhost:8080/"
        },
        "id": "mfmc7TirQwv7",
        "outputId": "30acda25-b751-4a00-d249-04afbe36e194"
      },
      "execution_count": null,
      "outputs": [
        {
          "output_type": "stream",
          "name": "stdout",
          "text": [
            "Data Science\n",
            "3 Months\n"
          ]
        }
      ]
    },
    {
      "cell_type": "code",
      "source": [
        "course2 = Course(\"Machine Learning\", \"6 Months\")\n",
        "print(course2.name)\n",
        "print(course2.duration)"
      ],
      "metadata": {
        "colab": {
          "base_uri": "https://localhost:8080/"
        },
        "id": "4bD0N9FLUd_P",
        "outputId": "c6585247-3671-4d68-e169-808028c5b547"
      },
      "execution_count": null,
      "outputs": [
        {
          "output_type": "stream",
          "name": "stdout",
          "text": [
            "Machine Learning\n",
            "6 Months\n"
          ]
        }
      ]
    },
    {
      "cell_type": "markdown",
      "source": [
        "Create a class named `Student` that includes an `__init__()` constructor to initialise attributes such as `name`, `age`, and `course`. Then, create an object of the `Student` class, pass values to the constructor, and display an introduction of the student."
      ],
      "metadata": {
        "id": "Sip1GQk7V2y2"
      }
    },
    {
      "cell_type": "code",
      "source": [
        "class Student:\n",
        "  def __init__(self, name, age, course):\n",
        "    self.name = name\n",
        "    self.age = age\n",
        "    self.course = course\n",
        "  def introduction(self):\n",
        "    return (f\"Introducing Student: I am  {self.name}, {self.age} {self.course}\")\n",
        "\n",
        "student1 = Student(\"Dhivya\", 35, \"Data Science\")\n",
        "student1.doj = \"2025-04-10\" #instance attribute\n",
        "\n",
        "student2 = Student(\"Vishnu\", 5, course1)\n",
        "print(student1.introduction())\n",
        "print(\"Introducing Student: \" + student1.name, student1.age, student1.course, student1.doj)\n",
        "#print(\"Introducing Student: \" + student2.name, student2.age, student2.course1.name, student2.course1.duration)"
      ],
      "metadata": {
        "colab": {
          "base_uri": "https://localhost:8080/"
        },
        "id": "oKIb8pjFVW3Z",
        "outputId": "98bd7712-64d8-49ec-d32e-90f94f119ad2"
      },
      "execution_count": null,
      "outputs": [
        {
          "output_type": "stream",
          "name": "stdout",
          "text": [
            "Introducing Student: I am  Dhivya, 35 Data Science\n",
            "Introducing Student: Dhivya 35 Data Science 2025-04-10\n"
          ]
        }
      ]
    },
    {
      "cell_type": "code",
      "source": [
        "class Student:\n",
        "  total_students = 0\n",
        "\n",
        "  def __init__(self, name, age, course):\n",
        "    self.name = name  #instancce attribute\n",
        "    self.age = age\n",
        "    self.course = course\n",
        "    Student.total_students += 1 #class Attribute\n",
        "  def introduction(self): #instance method\n",
        "    return (f\"Introducing Student: I am  {self.name}, {self.age} {self.course}\")\n",
        "\n",
        "  @classmethod\n",
        "  def get_total_students(cls): #class method\n",
        "    return f\"Total students enrolled: {cls.total_students}\"\n",
        "\n",
        "student1 = Student(\"Dhivya\", 35, \"Data Science\")\n",
        "print(Student.total_students)\n",
        "student2 = Student(\"Vishnu\", 5, course1)\n",
        "print(Student.total_students)\n",
        "\n",
        "print(student1.introduction())\n",
        "print(student2.introduction())\n",
        "print(Student.get_total_students())\n",
        "\n"
      ],
      "metadata": {
        "colab": {
          "base_uri": "https://localhost:8080/"
        },
        "id": "701L92SbihI_",
        "outputId": "f9c124ab-05b1-4e73-b7fc-c261130f99d7"
      },
      "execution_count": null,
      "outputs": [
        {
          "output_type": "stream",
          "name": "stdout",
          "text": [
            "1\n",
            "2\n",
            "Introducing Student: I am  Dhivya, 35 Data Science\n",
            "Introducing Student: I am  Vishnu, 5 <__main__.Course object at 0x78d44f810b00>\n",
            "Total students enrolled: 2\n"
          ]
        }
      ]
    },
    {
      "cell_type": "code",
      "source": [
        "class GraduateStudent(Student):\n",
        "  def __init__(self, name, age, course, research_topic):\n",
        "    super().__init__(name, age, course)\n",
        "    self.research_topic = research_topic\n",
        "\n",
        "  def research(self):\n",
        "    return f\"{self.name} is researching on {self.research_topic}\"\n",
        "\n",
        "gradStudent1 = GraduateStudent(\"Dhivya\", 35, \"Data Science\", \"Machine Learning\")\n",
        "print(gradStudent1.introduction())\n",
        "print(gradStudent1.research())\n",
        "print(Student.get_total_students())"
      ],
      "metadata": {
        "colab": {
          "base_uri": "https://localhost:8080/"
        },
        "id": "lMzi1zWFqS1Y",
        "outputId": "a88105f0-0446-4ed6-d178-5c9782568606"
      },
      "execution_count": null,
      "outputs": [
        {
          "output_type": "stream",
          "name": "stdout",
          "text": [
            "Introducing Student: I am  Dhivya, 35 Data Science\n",
            "Dhivya is researching on Machine Learning\n",
            "Total students enrolled: 5\n"
          ]
        }
      ]
    },
    {
      "cell_type": "markdown",
      "source": [
        "Method Overriding in Python"
      ],
      "metadata": {
        "id": "Yp0Du3JQt4Cb"
      }
    },
    {
      "cell_type": "code",
      "source": [
        "class GraduateStudent(Student):\n",
        "  def __init__(self, name, age, course, research_topic):\n",
        "    super().__init__(name, age, course)\n",
        "    self.research_topic = research_topic\n",
        "\n",
        "  def research(self):\n",
        "    return f\"{self.name} is researching on {self.research_topic}\"\n",
        "  def introduction(self):\n",
        "    return f\"I am a Graduate Student: {self.name} researching on {self.research_topic}!\"\n",
        "\n",
        "gradStudent2 = GraduateStudent(\"Dhivya\", 35, \"Data Science\", \"Machine Learning\")\n",
        "print(gradStudent2.introduction())\n",
        "gradStudent2.get_total_students()"
      ],
      "metadata": {
        "colab": {
          "base_uri": "https://localhost:8080/",
          "height": 52
        },
        "id": "sfbDUnPet9sk",
        "outputId": "a7e5509f-6fbc-4309-e5e9-b39ab3b589e5"
      },
      "execution_count": null,
      "outputs": [
        {
          "output_type": "stream",
          "name": "stdout",
          "text": [
            "I am a Graduate Student: Dhivya researching on Machine Learning!\n"
          ]
        },
        {
          "output_type": "execute_result",
          "data": {
            "text/plain": [
              "'Total students enrolled: 9'"
            ],
            "application/vnd.google.colaboratory.intrinsic+json": {
              "type": "string"
            }
          },
          "metadata": {},
          "execution_count": 30
        }
      ]
    },
    {
      "cell_type": "code",
      "source": [
        "class Customer:\n",
        "\n",
        "    def __init__(self, name, email):\n",
        "        self.name = name\n",
        "        self.email = email\n",
        "        self.purchase_history = []\n",
        "\n",
        "    def add_purchase(self, item):\n",
        "        self.purchase_history.append(item)\n",
        "\n",
        "    def display_info(self):\n",
        "        print(f\"Name: {self.name}\")\n",
        "        print(f\"Email: {self.email}\")\n",
        "        print(f\"Purchases: {self.purchase_history}\")\n",
        "\n",
        "customer1 = Customer(\"John\", \"john.doe@upgrad.com\")\n",
        "customer1.add_purchase(\"Laptop\")\n",
        "customer1.add_purchase(\"Headphones\")\n",
        "customer1.display_info()"
      ],
      "metadata": {
        "colab": {
          "base_uri": "https://localhost:8080/"
        },
        "id": "5B5d0NKi2QSI",
        "outputId": "c0546b14-5454-4bdb-9df0-b17779f94f58"
      },
      "execution_count": null,
      "outputs": [
        {
          "output_type": "stream",
          "name": "stdout",
          "text": [
            "Name: John\n",
            "Email: john.doe@upgrad.com\n",
            "Purchases: ['Laptop', 'Headphones']\n"
          ]
        }
      ]
    },
    {
      "cell_type": "code",
      "source": [
        "import math\n",
        "\n",
        "# Taking input\n",
        "r = float(input())\n",
        "\n",
        "class Circle:\n",
        "    # Write your code below\n",
        "    def __init__(self, radius):\n",
        "        self.radius = radius\n",
        "\n",
        "    def area(self):\n",
        "        return round(math.pi * pow(self.radius, 2), 2)\n",
        "\n",
        "c = Circle(r)\n",
        "circle_area = c.area()\n",
        "# Print the output\n",
        "print(circle_area)"
      ],
      "metadata": {
        "colab": {
          "base_uri": "https://localhost:8080/"
        },
        "id": "l9JR9-q2GgSj",
        "outputId": "45e84f88-77d9-40be-d612-38d685f4aa3c"
      },
      "execution_count": null,
      "outputs": [
        {
          "output_type": "stream",
          "name": "stdout",
          "text": [
            "7.07\n",
            "157.03\n"
          ]
        }
      ]
    },
    {
      "cell_type": "code",
      "source": [
        "# Taking Input\n",
        "n = int(input())\n",
        "\n",
        "class Validator:\n",
        "    # Write your code below\n",
        "    @staticmethod\n",
        "    def is_positive(n):\n",
        "        return n > 0\n",
        "\n",
        "print(Validator.is_positive(n))"
      ],
      "metadata": {
        "colab": {
          "base_uri": "https://localhost:8080/"
        },
        "id": "_TMKugzVIBBV",
        "outputId": "cdb43127-fbd4-431e-96a7-27c3e8ee6a0f"
      },
      "execution_count": null,
      "outputs": [
        {
          "output_type": "stream",
          "name": "stdout",
          "text": [
            "-7\n",
            "False\n"
          ]
        }
      ]
    },
    {
      "cell_type": "code",
      "source": [
        "# Input has been taken for you\n",
        "x = int(input())\n",
        "y = int(input())\n",
        "\n",
        "class Calculator:\n",
        "    # Define all required methods here\n",
        "    def add(self, x, y):\n",
        "        return (x + y)\n",
        "\n",
        "    @classmethod\n",
        "    def identity(cls):\n",
        "        return \"I'm a Calculator\"\n",
        "    @staticmethod\n",
        "    def greet():\n",
        "        return \"Hello\"\n",
        "\n",
        "\n",
        "# Expected method calls and printing of results\n",
        "calc = Calculator()\n",
        "print(calc.add(x, y))\n",
        "print(Calculator.identity())\n",
        "print(Calculator.greet())\n"
      ],
      "metadata": {
        "colab": {
          "base_uri": "https://localhost:8080/"
        },
        "id": "VlHlZe0lGhXg",
        "outputId": "f9552d50-cd33-49c9-8afa-d488431cd64d"
      },
      "execution_count": null,
      "outputs": [
        {
          "output_type": "stream",
          "name": "stdout",
          "text": [
            "4\n",
            "5\n",
            "9\n",
            "I'm a Calculator\n",
            "Hello\n"
          ]
        }
      ]
    },
    {
      "cell_type": "code",
      "source": [
        "# Taking Inputs\n",
        "name = input()\n",
        "balance = float(input())\n",
        "\n",
        "class BankAccount:\n",
        "    # Write your code here\n",
        "    def __init__(self, name, balance):\n",
        "        self.name = name\n",
        "        self.balance = balance\n",
        "\n",
        "    def show_balance(self):\n",
        "        return f\"Name: {self.name}, Balance: {self.balance}\"\n",
        "\n",
        "# Create object and print result\n",
        "ba = BankAccount(name, balance)\n",
        "print(ba.show_balance())"
      ],
      "metadata": {
        "id": "NP5w_TW23xuz"
      },
      "execution_count": null,
      "outputs": []
    },
    {
      "cell_type": "code",
      "source": [
        "# Taking Input\n",
        "f = float(input())\n",
        "\n",
        "class Temperature:\n",
        "    # Write your code below\n",
        "    @classmethod\n",
        "    def from_fahrenheit(cls, f):\n",
        "        return round(((f - 32) * 5 / 9), 2)\n",
        "\n",
        "\n",
        "# Output the Temperature in Celsius\n",
        "print(Temperature.from_fahrenheit(f))\n"
      ],
      "metadata": {
        "id": "PLLrVqi-5Tzv"
      },
      "execution_count": null,
      "outputs": []
    },
    {
      "cell_type": "markdown",
      "source": [
        "Data Analyst\n",
        "\n",
        "1. Data Collection\n",
        "2. Data ETL\n",
        "3. Data Cleaning\n",
        "4. EDA\n",
        "5. Conclusion/Results"
      ],
      "metadata": {
        "id": "T2kLRlf5VYtK"
      }
    },
    {
      "cell_type": "markdown",
      "source": [
        "GPT is generative pre-trained transformers"
      ],
      "metadata": {
        "id": "ZesnMn08Vhoi"
      }
    },
    {
      "cell_type": "markdown",
      "source": [
        "Gen AI\n",
        "1. Coding\n",
        "2. Debugging\n",
        "3. Code Understanding"
      ],
      "metadata": {
        "id": "Vpfz2NVqVqcU"
      }
    },
    {
      "cell_type": "markdown",
      "source": [
        "Prompt Engineering class\n",
        "\n",
        "Assume you are a Python programmer. Write a function to check if a given string or any of its substrings is a palindrome, ignoring case and non-alphanumeric characters. Explain your approach and handle edge cases such as empty strings, single characters, numeric-only inputs, and strings with only special characters.\n",
        "\n",
        "Check if a String or Its Substring is a Palindrome (Ignoring Case and Non-Alphanumeric Characters) you are a python developer trying to solve this question, write an efficient python code by explaining step by step how to solve this problem. Exclude single character palindrome output. Give example and test with edge-cases to check the code."
      ],
      "metadata": {
        "id": "wsUIukjolJQe"
      }
    },
    {
      "cell_type": "markdown",
      "source": [
        "Create a Function to Mask an Email Address by Hiding the Username (Except for First and Last Letters). Check if the email-id follows the standard email-id creation criteria used by all email-id domains. If there are special characters in username, hide them also. For single/double character username return invalid email-id.\n",
        "\n",
        "Create a Python function called mask_email(email) that hides the username in an email address except for the first and last letters. For example, \"john.doe@example.com\" should become \"j******e@example.com\". If the username has only one or two characters (like \"ab@example.com\"), return it unchanged. Make sure to handle invalid inputs (like missing @) gracefully. Include 2–3 example test cases in your output."
      ],
      "metadata": {
        "id": "gsbFJE5xlabF"
      }
    },
    {
      "cell_type": "markdown",
      "source": [
        "You are an expert Python developer. Write a Recursive Function to Reverse a List with input of any type. After this note the even-indexed elements and then Reverse Only Even-Indexed Elements. Lets solve this problem step by step. Test this code with 3 examples with edge-cases.\n",
        "\n",
        "Write a recursive function reverse_list_special(lst) that first reverses the entire list and then reverses only the elements at even indices (0, 2, 4, …). For example, [1, 2, 3, 4, 5] becomes [5, 4, 3, 2, 1] after full reversal, and then the final output after reversing even-indexed elements is [3, 4, 5, 2, 1]. Another example: [10, 20, 30, 40] becomes [40, 30, 20, 10] after full reversal, and then [20, 30, 40, 10] after reversing even indices. Handle empty lists and single-element lists gracefully and return the final modified list."
      ],
      "metadata": {
        "id": "X8DrYvF3rVA2"
      }
    },
    {
      "cell_type": "markdown",
      "source": [
        "# Erroneous Python code for debugging practice\n",
        "def calculate_sum(numbers)\n",
        "  total = 0\n",
        "  for num in numbers\n",
        "  total += num\n",
        "  return total\n",
        "def greet_user(name)\n",
        "  print(\"Welcome, \" + Name + \"!\")\n",
        "nums = [1, 2, 3, 4, 5\n",
        "print(\"The sum is: \" + calculate_sum(nums))\n",
        "greet_user(\"Alice\")\n",
        "you are a python developer. list the errors in the code above and solution to fix it. make the code more readable with documentations. give sample output after fixing the code."
      ],
      "metadata": {
        "id": "BnPs1h8-zbag"
      }
    },
    {
      "cell_type": "markdown",
      "source": [
        "def factorial(n)\n",
        "if n = 0\n",
        "return 1\n",
        "else\n",
        "return n * factorial(n-1\n",
        "def print_factors(num):\n",
        "factors = []\n",
        "for i in range(1, num+1)\n",
        "if num % i = 0\n",
        "factors.append(i print(\"Factors of\", num, \"are:\", factors)\n",
        "factorial(5\n",
        "print_factors(12)\n",
        "\n",
        "you are an python developer, fix the above the code for the factorial problem. List the errors encountered with solution to fix it. give the corrected code\n"
      ],
      "metadata": {
        "id": "oSO0E5WjzpUQ"
      }
    },
    {
      "cell_type": "code",
      "source": [
        "# Python code with string function errors\n",
        "def analyze_text(text)\n",
        "  text_lower = text.lower()\n",
        "  words = text.split(\" \")\n",
        "  first_word = words[0]\n",
        "  last_word = words[-1\n",
        "  if text_lower.startswith(\"hello\")\n",
        "    greeting = True\n",
        "  else\n",
        "    greeting = Flase # typo in boolean\n",
        "  reversed_text = text_lower.revers() # AttributeError: no revers() method\n",
        "  print(\"First word:\", first_word)\n",
        "  print(\"Last word:\", last_word)\n",
        "  print(\"Greeting detected:\", greeting)\n",
        "  print(\"Reversed text:\", reversed_text)\n",
        "\n",
        "sample_text = \"Hello World! Python is fun.\"\n",
        "analyze_text(sample_text\n"
      ],
      "metadata": {
        "id": "wIlM7bC34Vif"
      },
      "execution_count": null,
      "outputs": []
    },
    {
      "cell_type": "markdown",
      "source": [
        "you are a python developer, write a code which will accept a sentence startswith a greeting. Check if the greeting is \"hello\". Return true if greeting is present, else return false.\n",
        "Split the sentence with space. get the first and last words.\n",
        "Reverse the text.\n",
        "print the first word, last word, if greeting is detected and the reversed text.\n",
        "Check for the below error:\n",
        "typo in boolean\n",
        "AttributeError: no revers() method"
      ],
      "metadata": {
        "id": "xddoJF0O4-FK"
      }
    },
    {
      "cell_type": "markdown",
      "source": [
        "https://chatgpt.com/share/68eb3dfa-6e60-8009-8d9f-5c22117b0a5b"
      ],
      "metadata": {
        "id": "vX2bg0eU6xvw"
      }
    }
  ]
}